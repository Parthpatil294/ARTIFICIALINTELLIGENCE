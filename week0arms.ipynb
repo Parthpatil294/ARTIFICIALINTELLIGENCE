{
  "nbformat": 4,
  "nbformat_minor": 0,
  "metadata": {
    "colab": {
      "provenance": [],
      "authorship_tag": "ABX9TyNeJkgBZAWoW8eas4+e6BGH",
      "include_colab_link": true
    },
    "kernelspec": {
      "name": "python3",
      "display_name": "Python 3"
    },
    "language_info": {
      "name": "python"
    }
  },
  "cells": [
    {
      "cell_type": "markdown",
      "metadata": {
        "id": "view-in-github",
        "colab_type": "text"
      },
      "source": [
        "<a href=\"https://colab.research.google.com/github/Parthpatil294/ARTIFICIALINTELLIGENCE/blob/main/week0arms.ipynb\" target=\"_parent\"><img src=\"https://colab.research.google.com/assets/colab-badge.svg\" alt=\"Open In Colab\"/></a>"
      ]
    },
    {
      "cell_type": "code",
      "execution_count": null,
      "metadata": {
        "colab": {
          "base_uri": "https://localhost:8080/"
        },
        "id": "t7rpdxmEYViF",
        "outputId": "71672f90-49a0-4a24-c8ec-95c86f41ba45"
      },
      "outputs": [
        {
          "output_type": "stream",
          "name": "stdout",
          "text": [
            "Enter a number to find Armstrong number: 372\n",
            "Number is not Armstrong\n"
          ]
        }
      ],
      "source": [
        "num = int(input(\"Enter a number to find Armstrong number: \"))\n",
        "number = num\n",
        "size = 0\n",
        "while(num > 0):\n",
        "    num = num // 10\n",
        "    size += 1\n",
        "result=0\n",
        "\n",
        "while(num>0):\n",
        "    digit = num % 10\n",
        "    result = result + (digit ** size)\n",
        "    num = num // 10\n",
        "if(result==number):\n",
        "    print(\"Number is Armstrong\")\n",
        "else:\n",
        "    print(\"Number is not Armstrong\")"
      ]
    },
    {
      "cell_type": "code",
      "source": [
        "my_dict = {\"c\": 3, \"a\": 1, \"b\": 2}\n",
        "\n",
        "# Sort by keys\n",
        "sorted_by_keys = dict(sorted(my_dict.items()))\n",
        "print(sorted_by_keys)\n"
      ],
      "metadata": {
        "id": "9-YnjZZGbDON",
        "outputId": "1b977edd-4b0d-473d-f7db-5fbea683bbc3",
        "colab": {
          "base_uri": "https://localhost:8080/"
        }
      },
      "execution_count": 1,
      "outputs": [
        {
          "output_type": "stream",
          "name": "stdout",
          "text": [
            "{'a': 1, 'b': 2, 'c': 3}\n"
          ]
        }
      ]
    },
    {
      "cell_type": "code",
      "source": [
        "my_dict = {\"c\": 3, \"a\": 1, \"b\": 2}\n",
        "\n",
        "# Get keys in sorted order\n",
        "for key in sorted(my_dict.keys()):\n",
        "    print(key, \":\", my_dict[key])\n"
      ],
      "metadata": {
        "id": "HYl_ucy-wB_n",
        "outputId": "1d64eb24-d7bc-45a0-8d86-7457ede44632",
        "colab": {
          "base_uri": "https://localhost:8080/"
        }
      },
      "execution_count": 2,
      "outputs": [
        {
          "output_type": "stream",
          "name": "stdout",
          "text": [
            "a : 1\n",
            "b : 2\n",
            "c : 3\n"
          ]
        }
      ]
    },
    {
      "cell_type": "code",
      "source": [
        "from collections import OrderedDict\n",
        "\n",
        "my_dict = {\"c\": 3, \"a\": 1, \"b\": 2}\n",
        "\n",
        "sorted_by_key = OrderedDict(sorted(my_dict.items()))\n",
        "print(sorted_by_key)\n"
      ],
      "metadata": {
        "id": "E3mqnLYCwnjQ",
        "outputId": "7624c0c2-bf17-429b-e6fb-db5b85b06a92",
        "colab": {
          "base_uri": "https://localhost:8080/"
        }
      },
      "execution_count": 3,
      "outputs": [
        {
          "output_type": "stream",
          "name": "stdout",
          "text": [
            "OrderedDict({'a': 1, 'b': 2, 'c': 3})\n"
          ]
        }
      ]
    },
    {
      "cell_type": "code",
      "source": [
        "my_dict = {\"c\": \"apple\", \"a\": \"banana\", \"b\": \"cherry\"}\n",
        "\n",
        "sorted_by_value = dict(sorted(my_dict.items(), key=lambda item: item[1]))\n",
        "print(sorted_by_value)\n"
      ],
      "metadata": {
        "id": "NowP96MBw1xt",
        "outputId": "10c0c697-3a50-4abc-8153-84ed706880fb",
        "colab": {
          "base_uri": "https://localhost:8080/"
        }
      },
      "execution_count": 4,
      "outputs": [
        {
          "output_type": "stream",
          "name": "stdout",
          "text": [
            "{'c': 'apple', 'a': 'banana', 'b': 'cherry'}\n"
          ]
        }
      ]
    },
    {
      "cell_type": "code",
      "source": [
        "def merge_dicts(dict1, dict2):\n",
        "    merged = dict1.copy()      # copy first dictionary\n",
        "    merged.update(dict2)       # update with second dictionary\n",
        "    return merged\n",
        "\n",
        "# Example\n",
        "dict_a = {\"a\": 1, \"b\": 2}\n",
        "dict_b = {\"c\": 3, \"d\": 4}\n",
        "\n",
        "result = merge_dicts(dict_a, dict_b)\n",
        "print(result)\n"
      ],
      "metadata": {
        "id": "X35d2cT_xYlc",
        "outputId": "256d2f8d-8374-4b83-eb3c-39df3048648a",
        "colab": {
          "base_uri": "https://localhost:8080/"
        }
      },
      "execution_count": 5,
      "outputs": [
        {
          "output_type": "stream",
          "name": "stdout",
          "text": [
            "{'a': 1, 'b': 2, 'c': 3, 'd': 4}\n"
          ]
        }
      ]
    },
    {
      "cell_type": "code",
      "source": [
        "my_list = [10, 20, 30, 40, 50]\n",
        "#access list items\n",
        "print(my_list[0])\n",
        "print(my_list[-1])\n",
        "#change the list item\n",
        "my_list[1] = 25\n",
        "print(my_list)\n",
        "#replace items of the list\n",
        "my_list[2:4] = [35, 45]\n",
        "print(my_list)\n",
        "#append items to the list\n",
        "my_list.append(60)\n",
        "print(my_list)\n",
        "#insert items\n",
        "my_list.insert(1, 15)\n",
        "print(my_list)\n",
        "#extend the items\n",
        "my_list.extend([70, 80, 90])\n",
        "print(my_list)\n",
        "#remove items\n",
        "my_list.remove(40)\n",
        "print(my_list)\n",
        "#clear the entire list\n",
        "my_list.clear()\n",
        "print(my_list)\n",
        "\n"
      ],
      "metadata": {
        "id": "Nqjwht0Xxbl2",
        "outputId": "69607f61-3b7e-42c5-c210-8536c29025e6",
        "colab": {
          "base_uri": "https://localhost:8080/",
          "height": 332
        }
      },
      "execution_count": 6,
      "outputs": [
        {
          "output_type": "stream",
          "name": "stdout",
          "text": [
            "10\n",
            "50\n",
            "[10, 25, 30, 40, 50]\n",
            "[10, 25, 35, 45, 50]\n",
            "[10, 25, 35, 45, 50, 60]\n",
            "[10, 15, 25, 35, 45, 50, 60]\n",
            "[10, 15, 25, 35, 45, 50, 60, 70, 80, 90]\n"
          ]
        },
        {
          "output_type": "error",
          "ename": "ValueError",
          "evalue": "list.remove(x): x not in list",
          "traceback": [
            "\u001b[0;31m---------------------------------------------------------------------------\u001b[0m",
            "\u001b[0;31mValueError\u001b[0m                                Traceback (most recent call last)",
            "\u001b[0;32m/tmp/ipython-input-1684212445.py\u001b[0m in \u001b[0;36m<cell line: 0>\u001b[0;34m()\u001b[0m\n\u001b[1;32m     19\u001b[0m \u001b[0mprint\u001b[0m\u001b[0;34m(\u001b[0m\u001b[0mmy_list\u001b[0m\u001b[0;34m)\u001b[0m\u001b[0;34m\u001b[0m\u001b[0;34m\u001b[0m\u001b[0m\n\u001b[1;32m     20\u001b[0m \u001b[0;31m#remove items\u001b[0m\u001b[0;34m\u001b[0m\u001b[0;34m\u001b[0m\u001b[0m\n\u001b[0;32m---> 21\u001b[0;31m \u001b[0mmy_list\u001b[0m\u001b[0;34m.\u001b[0m\u001b[0mremove\u001b[0m\u001b[0;34m(\u001b[0m\u001b[0;36m40\u001b[0m\u001b[0;34m)\u001b[0m\u001b[0;34m\u001b[0m\u001b[0;34m\u001b[0m\u001b[0m\n\u001b[0m\u001b[1;32m     22\u001b[0m \u001b[0mprint\u001b[0m\u001b[0;34m(\u001b[0m\u001b[0mmy_list\u001b[0m\u001b[0;34m)\u001b[0m\u001b[0;34m\u001b[0m\u001b[0;34m\u001b[0m\u001b[0m\n\u001b[1;32m     23\u001b[0m \u001b[0;31m#clear the entire list\u001b[0m\u001b[0;34m\u001b[0m\u001b[0;34m\u001b[0m\u001b[0m\n",
            "\u001b[0;31mValueError\u001b[0m: list.remove(x): x not in list"
          ]
        }
      ]
    }
  ]
}