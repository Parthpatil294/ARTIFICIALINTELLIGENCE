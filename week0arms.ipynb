{
  "nbformat": 4,
  "nbformat_minor": 0,
  "metadata": {
    "colab": {
      "provenance": [],
      "authorship_tag": "ABX9TyOZvCyGAmwMkQcaNhHjzlz8",
      "include_colab_link": true
    },
    "kernelspec": {
      "name": "python3",
      "display_name": "Python 3"
    },
    "language_info": {
      "name": "python"
    }
  },
  "cells": [
    {
      "cell_type": "markdown",
      "metadata": {
        "id": "view-in-github",
        "colab_type": "text"
      },
      "source": [
        "<a href=\"https://colab.research.google.com/github/Parthpatil294/ARTIFICIALINTELLIGENCE/blob/main/week0arms.ipynb\" target=\"_parent\"><img src=\"https://colab.research.google.com/assets/colab-badge.svg\" alt=\"Open In Colab\"/></a>"
      ]
    },
    {
      "cell_type": "code",
      "execution_count": 6,
      "metadata": {
        "colab": {
          "base_uri": "https://localhost:8080/"
        },
        "id": "t7rpdxmEYViF",
        "outputId": "71672f90-49a0-4a24-c8ec-95c86f41ba45"
      },
      "outputs": [
        {
          "output_type": "stream",
          "name": "stdout",
          "text": [
            "Enter a number to find Armstrong number: 372\n",
            "Number is not Armstrong\n"
          ]
        }
      ],
      "source": [
        "num = int(input(\"Enter a number to find Armstrong number: \"))\n",
        "number = num\n",
        "size = 0\n",
        "while(num > 0):\n",
        "    num = num // 10\n",
        "    size += 1\n",
        "result=0\n",
        "\n",
        "while(num>0):\n",
        "    digit = num % 10\n",
        "    result = result + (digit ** size)\n",
        "    num = num // 10\n",
        "if(result==number):\n",
        "    print(\"Number is Armstrong\")\n",
        "else:\n",
        "    print(\"Number is not Armstrong\")"
      ]
    },
    {
      "cell_type": "code",
      "source": [],
      "metadata": {
        "id": "9-YnjZZGbDON"
      },
      "execution_count": null,
      "outputs": []
    }
  ]
}